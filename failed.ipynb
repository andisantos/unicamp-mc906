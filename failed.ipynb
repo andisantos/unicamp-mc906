{
 "cells": [
  {
   "cell_type": "code",
   "execution_count": 1,
   "metadata": {},
   "outputs": [
    {
     "name": "stdout",
     "output_type": "stream",
     "text": [
      "['/home/andreza/Documents/1S2020/mc906/aima-python', '/home/andreza/Documents/1S2020/mc906/ai-pacman', '/usr/lib/python38.zip', '/usr/lib/python3.8', '/usr/lib/python3.8/lib-dynload', '', '/home/andreza/.local/lib/python3.8/site-packages', '/usr/lib/python3.8/site-packages', '/home/andreza/.local/lib/python3.8/site-packages/IPython/extensions', '/home/andreza/.ipython']\n"
     ]
    }
   ],
   "source": [
    "# insert aima-python to python list of libraries\n",
    "# needed to import aima-python\n",
    "import sys\n",
    "import random\n",
    "import matplotlib.pyplot as plt\n",
    "PATH_TO_AIMA = \"/home/andreza/Documents/1S2020/mc906/aima-python\"\n",
    "if PATH_TO_AIMA not in sys.path:\n",
    "    sys.path.insert(0,PATH_TO_AIMA)\n",
    "print(sys.path)"
   ]
  },
  {
   "cell_type": "code",
   "execution_count": 2,
   "metadata": {},
   "outputs": [],
   "source": [
    "# import testing\n",
    "from search import *\n",
    "from notebook import psource, heatmap, gaussian_kernel, show_map, final_path_colors, display_visual, plot_NQueens\n",
    "import walls"
   ]
  },
  {
   "cell_type": "code",
   "execution_count": 3,
   "metadata": {},
   "outputs": [],
   "source": [
    "\n",
    "class CellType:\n",
    "    WALL_GHOST = 1\n",
    "    DOT = 2\n",
    "    PACMAN = 3\n",
    "    EMPTY = 0\n",
    "\n",
    "class Maze:\n",
    "    def __init__(self, width, height):\n",
    "        self.width = width\n",
    "        self.height = height\n",
    "    \n",
    "    def __getitem__(self, position):\n",
    "#         x, y = position\n",
    "        return self.maze[position]\n",
    "    \n",
    "    def __setitem__(self, new_value, position):\n",
    "        self.maze[position] = new_value\n",
    "    \n",
    "    def __hash__(self):\n",
    "        return id(self.maze)\n",
    "    \n",
    "    def __eq__(self, other):\n",
    "        return (self.maze == other).all()\n",
    "        \n",
    "    def show_maze(self):\n",
    "        plt.imshow(self.maze, interpolation='nearest')\n",
    "        plt.show()\n",
    "              \n",
    "    def maze_to_array(self, maze_str, width, height):\n",
    "        \"\"\"\n",
    "        Function that converts string maze to numpy array\n",
    "        \"\"\"\n",
    "        maze = []\n",
    "        for line in str(maze_str).splitlines():\n",
    "            line = line+line[::-1]\n",
    "            if line:\n",
    "                line = list(line)\n",
    "                for item in range(len(line)):\n",
    "                    if line[item] == \"|\":\n",
    "                        line[item] = CellType.WALL_GHOST\n",
    "                    else:\n",
    "                        line[item] = CellType.DOT\n",
    "\n",
    "                maze.append(line)\n",
    "        return np.array(maze)         \n",
    "    \n",
    "    def maze_generator(self):\n",
    "        \"\"\"\n",
    "        Function that creates the base string to generate maze\n",
    "        \"\"\"\n",
    "        maze = np.zeros((self.height, self.width))\n",
    "        maze[0,:] = 1\n",
    "        maze[:,0] = 1\n",
    "        maze[-1,:] = 1\n",
    "        maze[self.height//2-2:self.height//2+2, self.width-3::] = 1\n",
    "        maze_str = []\n",
    "        for line in maze:\n",
    "            for item in line:\n",
    "                if item == 1:\n",
    "                    maze_str.append('|')\n",
    "                else:\n",
    "                    maze_str.append('.')\n",
    "            maze_str.append('\\n')\n",
    "        maze_str = ''.join(maze_str)\n",
    "\n",
    "        maze = walls.Map(self.height, self.width, maze_str)\n",
    "        # verbosity option (-v)\n",
    "        if len(sys.argv) > 1 and sys.argv[1] == \"-v\":\n",
    "            maze.verbose = True\n",
    "        # generate map by adding walls until there's no more room\n",
    "        while maze.add_wall_obstacle(extend=True):\n",
    "            pass\n",
    "        \n",
    "        maze_array = self.maze_to_array(maze, self.width, self.height)\n",
    "        \n",
    "        # insert ghosts to the maze\n",
    "        for i in range(3):\n",
    "            valid_positions = np.argwhere(maze_array==CellType.DOT)\n",
    "            position = random.choice(valid_positions)\n",
    "            maze_array[position[0],position[1]] = CellType.WALL_GHOST\n",
    "        \n",
    "        # pacman initial position\n",
    "        valid_positions = np.argwhere(maze_array==CellType.DOT)\n",
    "        pac_position = random.choice(valid_positions)\n",
    "        maze_array[pac_position[0],pac_position[1]] = CellType.PACMAN\n",
    "        self.maze = maze_array\n",
    "        self.maze.flags.writeable = False\n",
    "\n",
    "\n",
    "    # maybe get shape"
   ]
  },
  {
   "cell_type": "code",
   "execution_count": 4,
   "metadata": {},
   "outputs": [],
   "source": [
    "class PacmanMazeProblem(Problem):\n",
    "    \"\"\"The Pacman Maze Problem.\"\"\"\n",
    "    \n",
    "    \n",
    "    def __init__(self, maze, goal_position):\n",
    "        Problem.__init__(self, maze, goal_position)\n",
    "        \n",
    "    def actions(self, state):\n",
    "        \"\"\"The possible actions are the neighbors of a given node\n",
    "        except if the neighbor is a ghost or a wall\"\"\"\n",
    "        \n",
    "        actions = []\n",
    "        y, x = np.where(state.maze == CellType.PACMAN)\n",
    "        y = y[0]\n",
    "        x = x[0]\n",
    "        directions = [         (0, -1),\n",
    "                      (-1, 0),           (1,  0),\n",
    "                                (0, 1)           ]\n",
    "        for position in directions:\n",
    "            if (y+position[1]) >=0 and (y+position[1]) < state.height:\n",
    "                if (x+position[0]) >=0 and (x+position[0]) < state.width:\n",
    "                    possible_pos = (y+position[1], x+position[0])\n",
    "                    maze_value = state.maze[possible_pos]\n",
    "                    if maze_value != CellType.WALL_GHOST:\n",
    "                        actions.append(possible_pos)\n",
    "        return actions\n",
    "\n",
    "    def result(self, state, action):\n",
    "        \"\"\"Return the state that results from executing the given\n",
    "        action in the given state.\"\"\"\n",
    "        \n",
    "        new_state = Maze(state.width, state.height)\n",
    "        new_state.maze = state.maze.copy() \n",
    "        \n",
    "        y, x = np.where(new_state.maze == CellType.PACMAN)\n",
    "        y = y[0]\n",
    "        x = x[0]\n",
    "\n",
    "        new_state.maze[y][x] = CellType.EMPTY\n",
    "        y = action[0]\n",
    "        x = action[1]\n",
    "        new_state.maze[y][x] = CellType.PACMAN\n",
    "        \n",
    "        return new_state\n",
    "    \n",
    "    def goal_test(self, state):\n",
    "        \"\"\"Return True if the state is a goal.\"\"\"\n",
    "        y, x = np.where(state.maze == CellType.PACMAN)\n",
    "        y = y[0]\n",
    "        x = x[0]\n",
    "        \n",
    "        return y == self.goal[0] and x == self.goal[1]\n",
    "\n",
    "    def path_cost(self, c, state1, action, state2):\n",
    "        \"\"\"\n",
    "        If action makes pacman eat a DOT this path is less costly\n",
    "        \"\"\"\n",
    "        if state1.maze[action] == CellType.DOT:\n",
    "            return c + 1\n",
    "        else:\n",
    "            return c + 2\n",
    "    \n",
    "#     def h1():  "
   ]
  },
  {
   "cell_type": "code",
   "execution_count": 5,
   "metadata": {},
   "outputs": [],
   "source": [
    "MAZE_WIDTH = 10\n",
    "MAZE_HEIGHT = 27\n",
    "maze_array = Maze(MAZE_WIDTH, MAZE_HEIGHT)\n",
    "maze_array.maze_generator()\n"
   ]
  },
  {
   "cell_type": "code",
   "execution_count": 6,
   "metadata": {},
   "outputs": [],
   "source": [
    "# goal position\n",
    "valid_positions = np.argwhere(maze_array.maze==CellType.DOT)\n",
    "goal_position = random.choice(valid_positions)"
   ]
  },
  {
   "cell_type": "code",
   "execution_count": 7,
   "metadata": {},
   "outputs": [],
   "source": [
    "problem = PacmanMazeProblem(maze_array, goal_position)"
   ]
  },
  {
   "cell_type": "code",
   "execution_count": 11,
   "metadata": {},
   "outputs": [
    {
     "name": "stdout",
     "output_type": "stream",
     "text": [
      "[ 2 24]\n",
      "(array([0]), array([17]))\n"
     ]
    },
    {
     "ename": "AttributeError",
     "evalue": "'NoneType' object has no attribute 'solution'",
     "output_type": "error",
     "traceback": [
      "\u001b[0;31m---------------------------------------------------------------------------\u001b[0m",
      "\u001b[0;31mAttributeError\u001b[0m                            Traceback (most recent call last)",
      "\u001b[0;32m<ipython-input-11-b3cb936bda9e>\u001b[0m in \u001b[0;36m<module>\u001b[0;34m\u001b[0m\n\u001b[1;32m      1\u001b[0m \u001b[0mprint\u001b[0m\u001b[0;34m(\u001b[0m\u001b[0mgoal_position\u001b[0m\u001b[0;34m)\u001b[0m\u001b[0;34m\u001b[0m\u001b[0;34m\u001b[0m\u001b[0m\n\u001b[1;32m      2\u001b[0m \u001b[0mprint\u001b[0m\u001b[0;34m(\u001b[0m\u001b[0mnp\u001b[0m\u001b[0;34m.\u001b[0m\u001b[0mwhere\u001b[0m\u001b[0;34m(\u001b[0m\u001b[0mmaze_array\u001b[0m\u001b[0;34m.\u001b[0m\u001b[0mmaze\u001b[0m \u001b[0;34m==\u001b[0m \u001b[0mCellType\u001b[0m\u001b[0;34m.\u001b[0m\u001b[0mPACMAN\u001b[0m\u001b[0;34m)\u001b[0m\u001b[0;34m)\u001b[0m\u001b[0;34m\u001b[0m\u001b[0;34m\u001b[0m\u001b[0m\n\u001b[0;32m----> 3\u001b[0;31m \u001b[0msolution\u001b[0m \u001b[0;34m=\u001b[0m \u001b[0mbreadth_first_graph_search\u001b[0m\u001b[0;34m(\u001b[0m\u001b[0mproblem\u001b[0m\u001b[0;34m)\u001b[0m\u001b[0;34m.\u001b[0m\u001b[0msolution\u001b[0m\u001b[0;34m(\u001b[0m\u001b[0;34m)\u001b[0m\u001b[0;34m\u001b[0m\u001b[0;34m\u001b[0m\u001b[0m\n\u001b[0m\u001b[1;32m      4\u001b[0m \u001b[0;31m# tchururuuuuu\u001b[0m\u001b[0;34m\u001b[0m\u001b[0;34m\u001b[0m\u001b[0;34m\u001b[0m\u001b[0m\n",
      "\u001b[0;31mAttributeError\u001b[0m: 'NoneType' object has no attribute 'solution'"
     ]
    }
   ],
   "source": [
    "print(goal_position)\n",
    "print(np.where(maze_array.maze == CellType.PACMAN))\n",
    "solution = breadth_first_graph_search(problem).solution()\n",
    "# tchururuuuuu"
   ]
  },
  {
   "cell_type": "code",
   "execution_count": 9,
   "metadata": {},
   "outputs": [
    {
     "ename": "AttributeError",
     "evalue": "'NoneType' object has no attribute 'solution'",
     "output_type": "error",
     "traceback": [
      "\u001b[0;31m---------------------------------------------------------------------------\u001b[0m",
      "\u001b[0;31mAttributeError\u001b[0m                            Traceback (most recent call last)",
      "\u001b[0;32m<ipython-input-9-e6914a1e348d>\u001b[0m in \u001b[0;36m<module>\u001b[0;34m\u001b[0m\n\u001b[0;32m----> 1\u001b[0;31m \u001b[0mprint\u001b[0m\u001b[0;34m(\u001b[0m\u001b[0msolution\u001b[0m\u001b[0;34m.\u001b[0m\u001b[0msolution\u001b[0m\u001b[0;34m(\u001b[0m\u001b[0;34m)\u001b[0m\u001b[0;34m)\u001b[0m\u001b[0;34m\u001b[0m\u001b[0;34m\u001b[0m\u001b[0m\n\u001b[0m\u001b[1;32m      2\u001b[0m \u001b[0mprint\u001b[0m\u001b[0;34m(\u001b[0m\u001b[0msolution\u001b[0m\u001b[0;34m.\u001b[0m\u001b[0mpath_cost\u001b[0m\u001b[0;34m)\u001b[0m\u001b[0;34m\u001b[0m\u001b[0;34m\u001b[0m\u001b[0m\n",
      "\u001b[0;31mAttributeError\u001b[0m: 'NoneType' object has no attribute 'solution'"
     ]
    }
   ],
   "source": [
    "print(solution.solution())\n",
    "print(solution.path_cost)"
   ]
  },
  {
   "cell_type": "code",
   "execution_count": null,
   "metadata": {},
   "outputs": [],
   "source": [
    "print(np.where(maze_array.maze == CellType.PACMAN))\n",
    "print(goal_position)\n",
    "maze_array.show_maze()"
   ]
  }
 ],
 "metadata": {
  "kernelspec": {
   "display_name": "Python 3",
   "language": "python",
   "name": "python3"
  },
  "language_info": {
   "codemirror_mode": {
    "name": "ipython",
    "version": 3
   },
   "file_extension": ".py",
   "mimetype": "text/x-python",
   "name": "python",
   "nbconvert_exporter": "python",
   "pygments_lexer": "ipython3",
   "version": "3.8.2"
  }
 },
 "nbformat": 4,
 "nbformat_minor": 4
}
