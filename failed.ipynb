{
 "cells": [
  {
   "cell_type": "markdown",
   "metadata": {},
   "source": [
    "# Trabalho #1 - MC906\n",
    "### Integrantes do grupo\n",
    "164213 Andreza Aparecida dos Santos\n",
    "\n",
    "166301 Daniela Palumbo\n",
    "\n",
    "160160 Guilherme Furlan\n",
    "\n",
    "172655 Lucas Cunha\n",
    "\n",
    "187506 Thamiris Coelho\n"
   ]
  },
  {
   "cell_type": "code",
   "execution_count": null,
   "metadata": {},
   "outputs": [],
   "source": [
    "import sys\n",
    "import random\n",
    "import math\n",
    "import matplotlib.pyplot as plt\n",
    "PATH_TO_AIMA = \"../aima-python\"\n",
    "if PATH_TO_AIMA not in sys.path:\n",
    "    sys.path.insert(0,PATH_TO_AIMA)\n",
    "from search import *\n",
    "import timeit\n",
    "import walls"
   ]
  },
  {
   "cell_type": "code",
   "execution_count": null,
   "metadata": {},
   "outputs": [],
   "source": [
    "# Global maze declaration\n",
    "maze_array = None\n",
    "time_measure = {\n",
    "    \"BFS\": [],\n",
    "    \"DLS\": [],\n",
    "    \"ASL\": [],\n",
    "    \"ASM\": [],\n",
    "    \"GL\": [],\n",
    "    \"GM\": [],\n",
    "    \"HC\": [],\n",
    "    \"pacman_initials\": [],\n",
    "    \"goal_positions\": [],\n",
    "}"
   ]
  },
  {
   "cell_type": "markdown",
   "metadata": {},
   "source": [
    "## Definição do Objetivo do Trabalho\n",
    "\n",
    "O  Pacman  encontra-se  em  um  labirinto  composto  pelas paredes, 3 fantasmas estáticos em posições pré-definidas, um ponto objetivo e dots. O objetivo desse trabalho é levar o Pacman até o ponto objetivo.\n",
    "O Pacman  se  move  de  acordo  com  vizinhança-4,  a  cada  ação executada  ele  coleta  um  dot  do  labirinto  e  revisitar  posições não é permitido. \n",
    "\n",
    "O labirinto é representado como uma grid de tamanho variável. As paredes do labirinto são intransponíveis e o ambiente é completamente observável <span style=\"color:red\">(talvez seja parcialmente observável)</span>, determinıstico, sequencial, estático e discreto."
   ]
  },
  {
   "cell_type": "markdown",
   "metadata": {},
   "source": [
    "## Problem Modeling\n",
    "\n",
    "Para modelar o problema utilizamos a classe \"Problem\" presente na biblioteca AIMA.search[1] em Python 3.\n",
    "\n",
    "Definimos as seguintes propriedades do problema:\n",
    "- O labirinto é global\n",
    "- Os estados são uma tupla (x,y,z) de modo que x e y representam a posição do Pacman no labirinto e z a quantidade de dots comidos.\n",
    "- As possíveis ações são tuplas (x,y) nas direções Oeste, Norte, Sul e Leste, que são testadas nessa ordem.\n",
    "- A posição inicial do Pacman é gerada aleatoriamente dentro das possíveis posições¹.\n",
    "- A posição do objetivo é gerada aleatoriamente dentro das possíveis posições¹.\n",
    "- As posições dos fantasmas são geradas aleatoriamente dentro das possíveis posições¹.\n",
    "\n",
    "¹ posições possíveis são posições representadas por dots na geração do labirinto.\n",
    "\n",
    "A modelagem foi feita definindo as funções abaixo.\n",
    "- actions: Determina a partir da posição (x,y) do Pacman e do estado do labirinto quais ações são possíveis de serem executadas.\n",
    "- result: Retorna o novo estado do Pacman após executar uma ação.\n",
    "- goaltest: Testa se o Pacman chegou no objetivo.\n",
    "- pathcost: Determina o custo para cada ação executada. Para o nosso caso, cada passo dado pelo Pacman tem custo 1.\n",
    "- value: Retorna quantos dots foram coletados. É utilizada no algoritmo de busca local para ser maximizada.\n",
    "\n"
   ]
  },
  {
   "cell_type": "code",
   "execution_count": null,
   "metadata": {},
   "outputs": [],
   "source": [
    "class PacmanMazeProblem(Problem):\n",
    "    \"\"\"The Pacman Maze Problem.\"\"\"\n",
    "    \n",
    "    def __init__(self, pac_position, goal_position):\n",
    "        Problem.__init__(self, pac_position, goal_position)\n",
    "        \n",
    "    def actions(self, state):\n",
    "        \"\"\"The possible actions include the neighbor positions of a given node\n",
    "        except if the position is a ghost or a wall\"\"\"        \n",
    "        actions = []\n",
    "        y, x, _ = state\n",
    "        directions = [         (0, -1),\n",
    "                      (-1, 0),           (1,  0),\n",
    "                                (0, 1)           ]\n",
    "        for position in directions:\n",
    "            possible_pos = [y+position[1], x+position[0]]\n",
    "            if possible_pos[1] < 0:\n",
    "                possible_pos[1] = maze_array.width-1\n",
    "            elif possible_pos[1] == maze_array.width:\n",
    "                possible_pos[1] = 0\n",
    "            possible_pos = tuple(possible_pos)\n",
    "            maze_value = maze_array.maze[possible_pos]\n",
    "            if maze_value == CellType.DOT:\n",
    "                actions.append(possible_pos)\n",
    "        return actions\n",
    "\n",
    "    def result(self, state, action):\n",
    "        \"\"\"Return the state that results from executing the given\n",
    "        action in the given state.\"\"\"\n",
    "        global maze_array\n",
    "        \n",
    "        maze_array.maze[state[0]][state[1]] = CellType.EMPTY\n",
    "        _, _, dots = state\n",
    "        state = (action[0], action[1], dots+1)\n",
    "        maze_array.maze[state[0]][state[1]] = CellType.EMPTY\n",
    "        \n",
    "        return state\n",
    "    \n",
    "    def goal_test(self, state):\n",
    "        \"\"\"Return True if the state is the goal.\"\"\"\n",
    "        y, x, _ = state\n",
    "        \n",
    "        return y == self.goal[0] and x == self.goal[1]\n",
    "\n",
    "    def path_cost(self, c, state1, action, state2):\n",
    "        \"\"\"\n",
    "        Every action is a step of cost 1\n",
    "        \"\"\"\n",
    "        return c + 1\n",
    "    \n",
    "    def value(self, state):\n",
    "        \"\"\"For optimization problems, each state has a value. Hill Climbing\n",
    "        and related algorithms try to maximize this value.\"\"\"\n",
    "        _, _, dots = state\n",
    "        return dots"
   ]
  },
  {
   "cell_type": "markdown",
   "metadata": {},
   "source": [
    "### Classe Maze\n",
    "\n",
    "A classe Maze é responsável por criar o labirinto.\n",
    "\n",
    "Dado um tamanho de largura e altura, uma grid é criada com uma configuração aleatória de paredes e dots. Dentre as posições dos dots 5 são escolhidas aleatoriamente para representarem as posições dos 3 fantasmas, a posição inicial do Pacman e a posição do objetivo.\n",
    "\n",
    "O código de geração do labirinto \"wall.py\" foi retirado do github pacman-mazegen [2].\n",
    "\n",
    "Para entender o que representam as cores presentes nos labirintos mostradas abaixo, deve-se observar que:\n",
    "    - verde: paredes intransponíveis do labirinto.\n",
    "    - rosa: posições estáticas dos 3 fantasmas.\n",
    "    - amarelo: posição inicial do Pacman.\n",
    "    - laranja: posição do ponto objetivo.\n",
    "    - vermelho: caminho final encontrado pela busca. Para a busca local, representa o ponto final de parada do Pacman.\n",
    "    - branco: dots não coletados pelo Pacman.\n",
    "    - preto: posições por onde o pacman passou no processo de busca pelo objetivo."
   ]
  },
  {
   "cell_type": "code",
   "execution_count": null,
   "metadata": {},
   "outputs": [],
   "source": [
    "class CellType:\n",
    "    EMPTY = 0\n",
    "    WALL = 1\n",
    "    DOT = 3\n",
    "    GHOST = 2\n",
    "\n",
    "class Maze:\n",
    "    def __init__(self, width, height):\n",
    "        self.width = width\n",
    "        self.height = height\n",
    "    \n",
    "    def __getitem__(self, position):\n",
    "        return self.maze[position]\n",
    "    \n",
    "    def __setitem__(self, new_value, position):\n",
    "        self.maze[position] = new_value\n",
    "    \n",
    "    def show_maze(self, solution):\n",
    "        for point in solution:\n",
    "            plt.scatter(point[1], point[0], color='red')\n",
    "\n",
    "        plt.imshow(self.maze, interpolation='nearest', cmap=plt.cm.get_cmap(\"cubehelix\", 4))\n",
    "        plt.scatter(self.pac_position[1], self.pac_position[0], color='yellow')\n",
    "        plt.scatter(self.goal_position[1], self.goal_position[0], color='orange')\n",
    "        plt.axis('off')\n",
    "        plt.show()\n",
    "              \n",
    "    def maze_to_array(self, maze_str, width, height):\n",
    "        \"\"\"\n",
    "        Function that converts string maze to numpy array\n",
    "        \"\"\"\n",
    "        maze = []\n",
    "        for line in str(maze_str).splitlines():\n",
    "            line = line+line[::-1]\n",
    "            if line:\n",
    "                line = list(line)\n",
    "                for item in range(len(line)):\n",
    "                    if line[item] == \"|\":\n",
    "                        line[item] = CellType.WALL\n",
    "                    else:\n",
    "                        line[item] = CellType.DOT\n",
    "                maze.append(line)\n",
    "        return np.array(maze) \n",
    "    \n",
    "    def maze_generator(self):\n",
    "        \"\"\"\n",
    "        Function that generates a random maze\n",
    "        Input: height and width of the maze\n",
    "        Output: array maze\n",
    "        \"\"\"\n",
    "        half_width = self.width//2\n",
    "        maze = np.zeros((self.height, half_width))\n",
    "        maze[0,:] = 1\n",
    "        maze[:,0] = 1\n",
    "        maze[-1,:] = 1\n",
    "        maze[self.height//2-2:self.height//2+2, half_width-3::] = 1\n",
    "        \n",
    "        gap_number = random.randint(0, 3)\n",
    "        for i in range(gap_number):\n",
    "            maze[(i+1)*self.height//(gap_number+1), 0] = 0\n",
    "        \n",
    "        maze_str = []\n",
    "        for line in maze:\n",
    "            for item in line:\n",
    "                if item == 1:\n",
    "                    maze_str.append('|')\n",
    "                else:\n",
    "                    maze_str.append('.')\n",
    "            maze_str.append('\\n')\n",
    "        maze_str = ''.join(maze_str)\n",
    "\n",
    "        maze = walls.Map(half_width, self.height, maze_str)\n",
    "        # generate map by adding walls until there's no more room\n",
    "        while maze.add_wall_obstacle(extend=True):\n",
    "            pass\n",
    "        \n",
    "        maze_array = self.maze_to_array(maze, half_width, self.height)\n",
    "        \n",
    "        # insert ghosts to the in random positions of the maze\n",
    "        for i in range(3):\n",
    "            valid_positions = np.argwhere(maze_array==CellType.DOT)\n",
    "            position = random.choice(valid_positions)\n",
    "            maze_array[position[0],position[1]] = CellType.GHOST\n",
    "            print(\"Ghost #%d position:\"%i, tuple(position))\n",
    "        \n",
    "        # pacman initial position is a tuple of 3 values: (x, y, dots)\n",
    "        # where dots are the total dots eaten by pacman\n",
    "        valid_positions = np.argwhere(maze_array==CellType.DOT)\n",
    "        position = random.choice(valid_positions)\n",
    "        position = np.append(position, [0])\n",
    "        self.pac_position = tuple(position)\n",
    "        self.goal_position = tuple(random.choice(valid_positions))\n",
    "        print(\"Pacman initial positon: \", self.pac_position)\n",
    "        print(\"Goal position: \", self.goal_position)\n",
    "        \n",
    "        # Saves the generated maze configuration\n",
    "        self.maze = maze_array\n",
    "        y,x, _ = self.pac_position\n",
    "        self.maze[(y,x)] = CellType.EMPTY\n",
    "        unique, counts = np.unique(self.maze, return_counts=\"True\")\n",
    "        print(\"Total number of dots in the maze: \", dict(zip(unique, counts))[CellType.DOT])\n",
    "        \n",
    "        # Keeps a copy of initial configuration of maze\n",
    "        # Needed because the searchers change the maze\n",
    "        self.original_maze = self.maze.copy()\n"
   ]
  },
  {
   "attachments": {},
   "cell_type": "markdown",
   "metadata": {},
   "source": [
    "### Heurísticas\n",
    "\n",
    "As heurísticas são utilizadas nas funções de avaliação dos algoritmos de busca informada (A* e Best First Search, por exemplo). Para que o algoritmo encontre a solução ótima do problema, ele precisa utilizar uma heurística admissível. Uma heurística é considerada admissível quando nunca superestima o custo de de alcançar o objetivo, ou seja quando o custo para chegar do estado atual ao final nunca é maior que o menor possível.\n",
    "\n",
    "Foram definidas duas heurísticas para o problema do PAC-MAN:\n",
    "- distância de manhatan: $|(X_{1} - X_{2})| + |(Y_{1} - Y_{2})|$\n",
    "- distância linear: $\\sqrt{(X_{1} - X_{2})^{2} + (Y_{1} - Y_{2})^{2}}$\n",
    "\n",
    "No caso da distância de Manhatan ela é admissível no problema do PAC-MAN, visto que, conforme nossa modelagem do problema, o pac-man só pode mover-se uma posição do labirinto por vez em somente uma das quatro direções (para cima, para baixo, esquerda e direita). A cada nova posição do pacman, o menor caminho até o objetivo final terá sempre como limite inferior a menor das distância manhattan das posições vizinhas, fazendo com que as demais posições sejam sub-ótimas, superestimando o custo final. Desta forma: 0 ≤ h(N) ≤ h*(N).\n",
    "\n",
    "A distância Euclidiana também é admissível por ser a menor distância entre dois pontos, sendo sempre menor que o custo real para o pac-man chegar ao objetivo, já que conforme nossa modelagem ele move-se apenas na vertical e horizontal. A distância Euclidiana também é nesse caso o limite inferior do caminho que o pacman realmente terá que percorrer até o objetivo, ou seja: 0 ≤ h(N) ≤ h*(N)\n"
   ]
  },
  {
   "cell_type": "code",
   "execution_count": null,
   "metadata": {},
   "outputs": [],
   "source": [
    "def linear(node):  \n",
    "    Y, X, _ = node.state\n",
    "    (gY, gX) = maze_array.goal_position\n",
    "        \n",
    "    return int(math.sqrt((gY-Y)**2+(gX-X)**2))\n",
    "\n",
    "def manhatan(node):  \n",
    "    Y, X, _ = node.state\n",
    "    (gY, gX) = maze_array.goal_position\n",
    "        \n",
    "    return (abs(gY-Y)+abs(gX-X))"
   ]
  },
  {
   "cell_type": "markdown",
   "metadata": {},
   "source": [
    "### Geração do Maze \n",
    "\n",
    "Gera o maze com os tamanhos de altura e largura definidos em MAZE_HEIGHT e MAZE_WIDTH."
   ]
  },
  {
   "cell_type": "code",
   "execution_count": null,
   "metadata": {},
   "outputs": [],
   "source": [
    "# Set the size of the Maze\n",
    "MAZE_WIDTH = 50\n",
    "MAZE_HEIGHT = 51\n",
    "\n",
    "global maze_array\n",
    "maze_array = Maze(MAZE_WIDTH, MAZE_HEIGHT)\n",
    "maze_array.maze_generator()"
   ]
  },
  {
   "cell_type": "code",
   "execution_count": null,
   "metadata": {
    "scrolled": true
   },
   "outputs": [],
   "source": [
    "time_measure[\"pacman_initials\"].append((maze_array.pac_position[0], maze_array.pac_position[1]))\n",
    "time_measure[\"goal_positions\"].append(maze_array.goal_position)"
   ]
  },
  {
   "cell_type": "code",
   "execution_count": null,
   "metadata": {},
   "outputs": [],
   "source": [
    "problem = PacmanMazeProblem(maze_array.pac_position, maze_array.goal_position)"
   ]
  },
  {
   "cell_type": "markdown",
   "metadata": {},
   "source": [
    "## Buscas\n",
    "\n",
    "Os algoritmos de busca utilizados nesse trabalho serão rapidamente explicados. \n",
    "Para ajudar na explicação, a figura abaixo possui um exemplo de grafo com o estado inicial e o objetivo.\n",
    "\n",
    "\n",
    "![alt text](./output/graph_example.png)"
   ]
  },
  {
   "cell_type": "markdown",
   "metadata": {},
   "source": [
    "### Métodos de Busca Não-Informada\n",
    "\n",
    "#### Busca em Largura \n",
    "\n",
    "A busca em largura realiza a visitação dos nós de modo que para cada nó pai P, todos os seus nós \"filhos\" são visitados antes de visitar um nó \"neto\".\n",
    "\n",
    "Esse algoritmo de busca utiliza uma fila FIFO, é completo pois sempre encontra uma solução se ela existir, e a solução encontrada é ótima, pois todos os caminhos possuem o mesmo custo.\n",
    "\n",
    "Aplicando esse algoritmo no exemplo de grafo mostrado anteriormente, a sequência de nós visitados pela busca até encontrar o objetivo (GOAL) é ABCDEFGHIJKLM.\n",
    "\n",
    "Esse algoritmo possui:\n",
    "    - complexidade de tempo O(b^(d+1)), onde b é o número médio de sucessores de cada nó e d é a profundidade da solução encontrada. Essa solução é sempre a solução de menor profundidade existente.\n",
    "    - complexidade de memória O(b^(d+1)), pois todos os nós visitados são mantidos em memória de modo \n",
    "    a recuperar o caminho da solução encontrada.\n",
    "\n",
    "\n",
    "#### Busca Limitada em Profundidade\n",
    "\n",
    "A Busca Limitada em Profundidade realiza a visitação dos nós igual a Busca em Profundidade, isto é, expandindo sempre os nós mais profundos. Esse algoritmo utiliza uma pilha LIFO, escolhendo como sucessor o primeiro nó na pilha, desse modo nós inseridos por último na pilha são expandido primeiro.\n",
    "\n",
    "A diferença entre essa busca e uma busca em profundidade padrão é que ela só expande até uma profundidade limite L. Essa busca é considerada incompleta, ou seja, não encontra uma solução caso L < d, e não é ótima para L > d, onde d é a profundidade da solução encontrada.\n",
    "\n",
    "Aplicando esse algoritmo no exemplo de grafo mostrado anteriormente, a sequência de nós visitados pela busca até encontrar o objetivo (GOAL) é ABDHIEJKCFLM.\n",
    "\n",
    "Esse algoritmo possui:\n",
    "    - complexidade de tempo O(b^L), onde b é o número médio de \n",
    "    sucessores de cada nó.\n",
    "    - complexidade de memória O(bL).\n",
    "\n",
    "Para efeitos do trabalho L = 50, dessa forma se a distância entre o Pacman e o ponto objetivo for maior, o algoritmo não encontra uma solução."
   ]
  },
  {
   "cell_type": "code",
   "execution_count": null,
   "metadata": {},
   "outputs": [],
   "source": [
    "# global maze_array\n",
    "maze_array.maze = maze_array.original_maze.copy()\n",
    "solution = breadth_first_graph_search(problem)\n",
    "print(\"Path Solution Found: \", solution.solution())\n",
    "print(\"Cost of the path found: \", solution.path_cost)\n",
    "print(\"\\nFinal maze:\")\n",
    "maze_array.show_maze(solution.solution())"
   ]
  },
  {
   "cell_type": "code",
   "execution_count": null,
   "metadata": {
    "scrolled": true
   },
   "outputs": [],
   "source": [
    "global maze_array\n",
    "maze_array.maze = maze_array.original_maze.copy()\n",
    "solution = depth_limited_search(problem)\n",
    "try:\n",
    "    print(\"Path Solution Found: \", solution.solution())\n",
    "    print(\"Cost of the path found: \", solution.path_cost)\n",
    "    print(\"\\nFinal maze:\")\n",
    "    maze_array.show_maze(solution.solution())\n",
    "except:\n",
    "    print(\"Path not found with depth limited = 50\")"
   ]
  },
  {
   "cell_type": "code",
   "execution_count": null,
   "metadata": {},
   "outputs": [],
   "source": [
    "%%timeit -o\n",
    "######### Breadth First Search #########\n",
    "\n",
    "global maze_array\n",
    "maze_array.maze = maze_array.original_maze.copy()\n",
    "solution = breadth_first_graph_search(problem)"
   ]
  },
  {
   "cell_type": "code",
   "execution_count": null,
   "metadata": {},
   "outputs": [],
   "source": [
    "time_measure[\"BFS\"].append(_.average)"
   ]
  },
  {
   "cell_type": "code",
   "execution_count": null,
   "metadata": {},
   "outputs": [],
   "source": [
    "%%timeit -o\n",
    "######### Depth Limited Search #########\n",
    "global maze_array\n",
    "maze_array.maze = maze_array.original_maze.copy()\n",
    "solution = depth_limited_search(problem)"
   ]
  },
  {
   "cell_type": "code",
   "execution_count": null,
   "metadata": {},
   "outputs": [],
   "source": [
    "time_measure[\"DLS\"].append(_.average)"
   ]
  },
  {
   "cell_type": "markdown",
   "metadata": {},
   "source": [
    "### Métodos de Busca Informada\n",
    "\n",
    "#### Greedy Best First\n",
    "\n",
    "Como um dos métodos de busca informada, aplicamos o Greedy Best First. Este algoritmo utiliza uma função heurística F(n) = h(n) como uma estimativa do custo do caminho do nó atual até o estado final, expandindo para aquele que possui uma avaliação aparentemente melhor em relação ao objetivo. No caso do labirinto do Pacman, o nó vizinho que apresenta o menor valor da função h(n) é o escolhido para ser expandido. É um algoritmo guloso por sempre realizar localmente a melhor escolha. Como exemplo, imagine que um problema cujo objetivo seja chegar ao nó Y, sendo o nó X o estado inicial, cujos vizinhos são A, B e C, possuindo os seguintes valores para a função heurística h(n):\n",
    "\n",
    "![alt text](./output/heuristic_example.jpeg)\n",
    "\n",
    "O nó a ser expandido seria o B, pelo valor de h(n) ser o menor dentre todos os vizinhos de X.\n",
    "\n",
    "Este algoritmo possui:\n",
    "\n",
    "    - Complexidade de tempo e espaço O(bm) no pior caso, porém boas heurísticas conseguem reduzir essa complexidade.\n",
    "    - Pode ser incompleto se na implementação não identificar estados repitidos.\n",
    "\n",
    "#### A*\n",
    "\n",
    "O algoritmo A* é uma combinação da estimativa de uma heurística h(n) e da função custo para ir do nó atual até o vizinho (g(n)), resultando na seguinte função de avaliação: f(n) = g(n) + h(n). Da mesma forma que no greedy best first, o nó a ser expandido é sempre o que apresenta a melhor avaliação em relação ao objetivo, no caso do Pacman, o menor valor. Conforme modelamos o problema, o custo de g(n) sempre será unitário para todos nós vizinhos, fazendo que na prática a heurística h(n) seja a única responsável pelo resultado da função avaliação.\n",
    "\n",
    "Este algoritmo possui:\n",
    "\n",
    "    - Complexidade de tempo e espaço O(b^d) no pior caso, porém o uso de boas heurísticas reduz essa complexidade.\n",
    "    - Pode ser ótimo e completo com a utilização de heurísticas consistentes.\n"
   ]
  },
  {
   "cell_type": "code",
   "execution_count": null,
   "metadata": {
    "scrolled": true
   },
   "outputs": [],
   "source": [
    "global maze_array\n",
    "maze_array.maze = maze_array.original_maze.copy()\n",
    "solution = best_first_graph_search(problem, linear)\n",
    "\n",
    "print(\"Path Solution Found: \", solution.solution())\n",
    "print(\"Cost of the path found: \", solution.path_cost)\n",
    "print(\"\\nFinal maze:\")\n",
    "maze_array.show_maze(solution.solution())"
   ]
  },
  {
   "cell_type": "code",
   "execution_count": null,
   "metadata": {
    "scrolled": true
   },
   "outputs": [],
   "source": [
    "global maze_array\n",
    "maze_array.maze = maze_array.original_maze.copy()\n",
    "solution = best_first_graph_search(problem, manhatan)\n",
    "\n",
    "print(\"Path Solution Found: \", solution.solution())\n",
    "print(\"Cost of the path found: \", solution.path_cost)\n",
    "print(\"\\nFinal maze:\")\n",
    "maze_array.show_maze(solution.solution())"
   ]
  },
  {
   "cell_type": "code",
   "execution_count": null,
   "metadata": {
    "scrolled": true
   },
   "outputs": [],
   "source": [
    "global maze_array\n",
    "maze_array.maze = maze_array.original_maze.copy()\n",
    "solution = astar_search(problem, linear)\n",
    "\n",
    "print(\"Path Solution Found: \", solution.solution())\n",
    "print(\"Cost of the path found: \", solution.path_cost)\n",
    "print(\"\\nFinal maze:\")\n",
    "maze_array.show_maze(solution.solution())"
   ]
  },
  {
   "cell_type": "code",
   "execution_count": null,
   "metadata": {
    "scrolled": true
   },
   "outputs": [],
   "source": [
    "global maze_array\n",
    "maze_array.maze = maze_array.original_maze.copy()\n",
    "solution = astar_search(problem, manhatan)\n",
    "\n",
    "print(\"Path Solution Found: \", solution.solution())\n",
    "print(\"Cost of the path found: \", solution.path_cost)\n",
    "print(\"\\nFinal maze:\")\n",
    "maze_array.show_maze(solution.solution())"
   ]
  },
  {
   "cell_type": "code",
   "execution_count": null,
   "metadata": {},
   "outputs": [],
   "source": [
    "%%timeit -o\n",
    "######### Greedy Best First with f() = linear distance #########\n",
    "\n",
    "global maze_array\n",
    "maze_array.maze = maze_array.original_maze.copy()\n",
    "solution = best_first_graph_search(problem, linear)"
   ]
  },
  {
   "cell_type": "code",
   "execution_count": null,
   "metadata": {},
   "outputs": [],
   "source": [
    "time_measure[\"GL\"].append(_.average)"
   ]
  },
  {
   "cell_type": "code",
   "execution_count": null,
   "metadata": {},
   "outputs": [],
   "source": [
    "%%timeit -o\n",
    "######### Greedy Best First with f() = manhatan distance #########\n",
    "\n",
    "global maze_array\n",
    "maze_array.maze = maze_array.original_maze.copy()\n",
    "solution = best_first_graph_search(problem, manhatan)"
   ]
  },
  {
   "cell_type": "code",
   "execution_count": null,
   "metadata": {},
   "outputs": [],
   "source": [
    "time_measure[\"GM\"].append(_.average)"
   ]
  },
  {
   "cell_type": "code",
   "execution_count": null,
   "metadata": {
    "scrolled": true
   },
   "outputs": [],
   "source": [
    "%%timeit -o\n",
    "######### A* with h() = linear distance #########\n",
    "\n",
    "global maze_array\n",
    "maze_array.maze = maze_array.original_maze.copy()\n",
    "solution = astar_search(problem, linear)"
   ]
  },
  {
   "cell_type": "code",
   "execution_count": null,
   "metadata": {},
   "outputs": [],
   "source": [
    "time_measure[\"ASL\"].append(_.average)"
   ]
  },
  {
   "cell_type": "code",
   "execution_count": null,
   "metadata": {},
   "outputs": [],
   "source": [
    "%%timeit -o\n",
    "######### A* with h() = manhatan distance #########\n",
    "global maze_array\n",
    "maze_array.maze = maze_array.original_maze.copy()\n",
    "solution = astar_search(problem, manhatan)"
   ]
  },
  {
   "cell_type": "code",
   "execution_count": null,
   "metadata": {},
   "outputs": [],
   "source": [
    "time_measure[\"ASM\"].append(_.average)"
   ]
  },
  {
   "cell_type": "markdown",
   "metadata": {},
   "source": [
    "### Método de Busca Local\n",
    "\n",
    "#### Hill Climbing\n",
    "\n",
    "Para o algoritmo de busca local escolhemos o Hill Climbing. Esse algoritmo funciona como um loop que visa continuamente aumentar a função value() definida na nossa classe \"PacmanMazeProblem\".\n",
    "\n",
    "Definimos nossa função value como o número de dots coletados pelo Pacman, de modo que o Hill Climbing agisse de forma a maximizar esse valor. Vale pontuar que esse é o único objetivo desse algoritmo, ou seja, através dele o Pacman não chegará ao ponto objetivo que foi definido anteriormente e utilizados nas buscas anteriores.\n",
    "\n",
    "O Hill Climbing não é completo, nem ótimo. Uma limitação que podemos pontuar desse algoritmo é que ele pode ficar preso em máximos locais, uma vez que não possui nenhum mecanismo que possubilite voltar atrás alguns passos para encontrar uma saída melhor.\n",
    "\n",
    "Esse algoritmo possui:\n",
    "    - Complexidade de tempo no melhor caso de O(d) e no pior caso de O(b^d), onde b é o número médio de sucessores de um nó e d a profundidade da solução encontrada.\n",
    "    - Como complexidade de memória, esse algoritmo não precisa manter nós na memória."
   ]
  },
  {
   "cell_type": "code",
   "execution_count": null,
   "metadata": {},
   "outputs": [],
   "source": [
    "maze_array.maze = maze_array.original_maze.copy()\n",
    "solution = hill_climbing(problem)\n",
    "print(\"Number of eaten dots: \", solution[2])\n",
    "maze_array.show_maze([(solution[0], solution[1])])"
   ]
  },
  {
   "cell_type": "code",
   "execution_count": null,
   "metadata": {},
   "outputs": [],
   "source": [
    "%%timeit -o\n",
    "######### Hill Climbing Local Search #########\n",
    "global maze_array\n",
    "maze_array.maze = maze_array.original_maze.copy()\n",
    "solution = hill_climbing(problem)"
   ]
  },
  {
   "cell_type": "code",
   "execution_count": null,
   "metadata": {},
   "outputs": [],
   "source": [
    "time_measure[\"HC\"].append(_.average)"
   ]
  },
  {
   "cell_type": "code",
   "execution_count": null,
   "metadata": {},
   "outputs": [],
   "source": [
    "# def compare_searchers(problems, header,\n",
    "#                       searchers=[breadth_first_graph_search,\n",
    "#                                  depth_limited_search,\n",
    "#                                  [best_first_graph_search, 'manhatan'],\n",
    "#                                  [best_first_graph_search, 'linear'],\n",
    "#                                  [astar_search, 'manhatan'],\n",
    "#                                  [astar_search, 'linear'],\n",
    "#                                  hill_climbing]):\n",
    "    \n",
    "#     def do(searcher, problem):\n",
    "#         p = InstrumentedProblem(problem)\n",
    "#         if searcher == [astar_search, 'manhatan']:\n",
    "#             searcher[0](p, manhatan)\n",
    "#         elif searcher == [astar_search, 'linear']:\n",
    "#             searcher[0](p, linear)\n",
    "#         elif searcher == [best_first_graph_search, 'manhatan']:\n",
    "#             searcher[0](p, manhatan)\n",
    "#         elif searcher == [best_first_graph_search, 'linear']:\n",
    "#             searcher[0](p, linear)\n",
    "#         else:\n",
    "#             searcher(p)\n",
    "#         return p\n",
    "\n",
    "#     table = [[name(s)] + [do(s, p) for p in problems] for s in searchers]\n",
    "#     print_table(table, header)"
   ]
  },
  {
   "cell_type": "code",
   "execution_count": null,
   "metadata": {},
   "outputs": [],
   "source": [
    "# headers = [\"search algorithms\", \"1\"]\n",
    "# compare_searchers([problem], headers)"
   ]
  },
  {
   "cell_type": "markdown",
   "metadata": {},
   "source": [
    "## Análises de Tempo\n",
    "\n",
    "Para analisar o tempo de execução de cada algoritmo de busca realizamos 14 experimentos, em cada um deles variamos toda configuração do labirinto, mantendo apenas o tamanho do grid. Coletamos a média do tempo de execução em cada experimento e plotamos em função da distância de manhatan entre a posição inicial do Pacman e o objetivo. \n",
    "\n",
    "![alt text](./output/search_times.png)\n",
    "\n",
    "<span style=\"color:red\">TODO: Fazer uma análise do gráfico</span>"
   ]
  },
  {
   "cell_type": "markdown",
   "metadata": {},
   "source": [
    "## Referências\n",
    "\n",
    "[1] Aima-python: search. Disponível online em https://github.com/aimacode/aima-python/blob/master/search.py\n",
    "\n",
    "[2] pacman-mazegen: walls. Disponível online em https://github.com/shaunlebron/pacman-mazegen/blob/gh-pages/randomfill/walls.py\n",
    "\n",
    "\n",
    "<span style=\"color:red\">TODO: Arrumar referências e citações</span>"
   ]
  }
 ],
 "metadata": {
  "kernelspec": {
   "display_name": "Python 3",
   "language": "python",
   "name": "python3"
  },
  "language_info": {
   "codemirror_mode": {
    "name": "ipython",
    "version": 3
   },
   "file_extension": ".py",
   "mimetype": "text/x-python",
   "name": "python",
   "nbconvert_exporter": "python",
   "pygments_lexer": "ipython3",
   "version": "3.6.8"
  }
 },
 "nbformat": 4,
 "nbformat_minor": 4
}
