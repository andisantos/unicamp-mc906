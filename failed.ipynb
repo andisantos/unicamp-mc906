{
 "cells": [
  {
   "cell_type": "code",
   "execution_count": 281,
   "metadata": {},
   "outputs": [
    {
     "name": "stdout",
     "output_type": "stream",
     "text": [
      "['../aima-python', '/usr/lib/python36.zip', '/usr/lib/python3.6', '/usr/lib/python3.6/lib-dynload', '', '/home/guilhermefurlan/.local/lib/python3.6/site-packages', '/usr/local/lib/python3.6/dist-packages', '/usr/lib/python3/dist-packages', '/home/guilhermefurlan/.local/lib/python3.6/site-packages/IPython/extensions', '/home/guilhermefurlan/.ipython']\n"
     ]
    }
   ],
   "source": [
    "# insert aima-python to python list of libraries\n",
    "# needed to import aima-python\n",
    "import sys\n",
    "import random\n",
    "import math\n",
    "import matplotlib.pyplot as plt\n",
    "PATH_TO_AIMA = \"../aima-python\"\n",
    "if PATH_TO_AIMA not in sys.path:\n",
    "    sys.path.insert(0,PATH_TO_AIMA)\n",
    "print(sys.path)"
   ]
  },
  {
   "cell_type": "code",
   "execution_count": 282,
   "metadata": {},
   "outputs": [],
   "source": [
    "# import testing\n",
    "from search import *\n",
    "#from notebook import psource, heatmap, gaussian_kernel, show_map, final_path_colors, display_visual, plot_NQueens\n",
    "import walls\n",
    "\n",
    "maze_array = None"
   ]
  },
  {
   "cell_type": "code",
   "execution_count": 283,
   "metadata": {},
   "outputs": [],
   "source": [
    "class CellType:\n",
    "    EMPTY = 0\n",
    "    WALL = 1\n",
    "    DOT = 2\n",
    "    GHOST = 3\n",
    "\n",
    "class Maze:\n",
    "    def __init__(self, width, height):\n",
    "        self.width = width\n",
    "        self.height = height\n",
    "    \n",
    "    def __getitem__(self, position):\n",
    "#         x, y = position\n",
    "        return self.maze[position]\n",
    "    \n",
    "    def __setitem__(self, new_value, position):\n",
    "        self.maze[position] = new_value\n",
    "    \n",
    "    def show_maze(self, solution):\n",
    "        for point in solution:\n",
    "            plt.scatter(point[1], point[0], color='red')\n",
    "\n",
    "        plt.scatter(self.pac_position[1], self.pac_position[0], color='yellow')\n",
    "        plt.scatter(self.goal_position[1], self.goal_position[0], color='white')\n",
    "        plt.imshow(self.maze, interpolation='nearest')\n",
    "        plt.axis('off')\n",
    "        plt.show()\n",
    "              \n",
    "    def maze_to_array(self, maze_str, width, height):\n",
    "        \"\"\"\n",
    "        Function that converts string maze to numpy array\n",
    "        \"\"\"\n",
    "        maze = []\n",
    "        for line in str(maze_str).splitlines():\n",
    "            line = line+line[::-1]\n",
    "            if line:\n",
    "                line = list(line)\n",
    "                for item in range(len(line)):\n",
    "                    if line[item] == \"|\":\n",
    "                        line[item] = CellType.WALL\n",
    "                    else:\n",
    "                        line[item] = CellType.DOT\n",
    "\n",
    "                maze.append(line)\n",
    "        return np.array(maze)         \n",
    "    \n",
    "    def maze_generator(self):\n",
    "        \"\"\"\n",
    "        Function that creates the base string to generate maze\n",
    "        \"\"\"\n",
    "        half_width = self.width//2\n",
    "        maze = np.zeros((self.height, half_width))\n",
    "        maze[0,:] = 1\n",
    "        maze[:,0] = 1\n",
    "        maze[-1,:] = 1\n",
    "        maze[self.height//2-2:self.height//2+2, half_width-3::] = 1\n",
    "        maze_str = []\n",
    "        for line in maze:\n",
    "            for item in line:\n",
    "                if item == 1:\n",
    "                    maze_str.append('|')\n",
    "                else:\n",
    "                    maze_str.append('.')\n",
    "            maze_str.append('\\n')\n",
    "        maze_str = ''.join(maze_str)\n",
    "\n",
    "        maze = walls.Map(half_width, self.height, maze_str)\n",
    "        # verbosity option (-v)\n",
    "        #maze.verbose = True\n",
    "        # generate map by adding walls until there's no more room\n",
    "        while maze.add_wall_obstacle(extend=True):\n",
    "            pass\n",
    "        \n",
    "        maze_array = self.maze_to_array(maze, half_width, self.height)\n",
    "        \n",
    "        # insert ghosts to the maze\n",
    "        for i in range(3):\n",
    "            valid_positions = np.argwhere(maze_array==CellType.DOT)\n",
    "            position = random.choice(valid_positions)\n",
    "            maze_array[position[0],position[1]] = CellType.GHOST\n",
    "        \n",
    "        # pacman initial position\n",
    "        valid_positions = np.argwhere(maze_array==CellType.DOT)\n",
    "        self.pac_position = tuple(random.choice(valid_positions))\n",
    "        self.goal_position = tuple(random.choice(valid_positions))\n",
    "        self.maze = maze_array\n",
    "        self.maze[self.pac_position] = CellType.EMPTY\n",
    "        \n",
    "        self.original_maze = self.maze.copy()\n",
    "        #self.maze.flags.writeable = False\n",
    "\n",
    "\n",
    "    # maybe get shape"
   ]
  },
  {
   "cell_type": "code",
   "execution_count": 284,
   "metadata": {},
   "outputs": [],
   "source": [
    "class PacmanMazeProblem(Problem):\n",
    "    \"\"\"The Pacman Maze Problem.\"\"\"\n",
    "    \n",
    "    \n",
    "    def __init__(self, pac_position, goal_position):\n",
    "        Problem.__init__(self, pac_position, goal_position)\n",
    "        \n",
    "    def actions(self, state):\n",
    "        \"\"\"The possible actions are the neighbors of a given node\n",
    "        except if the neighbor is a ghost or a wall\"\"\"        \n",
    "        actions = []\n",
    "        y, x = state\n",
    "        directions = [         (0, -1),\n",
    "                      (-1, 0),           (1,  0),\n",
    "                                (0, 1)           ]\n",
    "        for position in directions:\n",
    "            possible_pos = (y+position[1], x+position[0])\n",
    "            maze_value = maze_array.maze[possible_pos]\n",
    "            if maze_value == CellType.DOT:\n",
    "                actions.append(possible_pos)\n",
    "        return actions\n",
    "\n",
    "    def result(self, state, action):\n",
    "        \"\"\"Return the state that results from executing the given\n",
    "        action in the given state.\"\"\"\n",
    "        global maze_array\n",
    "        maze_array.maze[state] = CellType.EMPTY\n",
    "        state = action\n",
    "        maze_array.maze[state] = CellType.EMPTY\n",
    "\n",
    "        return state\n",
    "    \n",
    "    def goal_test(self, state):\n",
    "        \"\"\"Return True if the state is a goal.\"\"\"\n",
    "        \n",
    "        return state == self.goal\n",
    "\n",
    "    def path_cost(self, c, state1, action, state2):\n",
    "        \"\"\"\n",
    "        If action makes pacman eat a DOT this path is less costly\n",
    "        \"\"\"\n",
    "        if maze_array.maze[action] == CellType.DOT:\n",
    "            return c + 1\n",
    "        else:\n",
    "            return c + 2\n",
    "    \n",
    "#     def h1():  "
   ]
  },
  {
   "cell_type": "code",
   "execution_count": 285,
   "metadata": {},
   "outputs": [],
   "source": [
    "def manhatan(node):  \n",
    "    (Y, X) = node.state\n",
    "    (gY, gX) = maze_array.goal_position\n",
    "        \n",
    "    return (abs(gY-Y)+abs(gX-X))\n",
    "    "
   ]
  },
  {
   "cell_type": "code",
   "execution_count": 286,
   "metadata": {},
   "outputs": [],
   "source": [
    "def linear(node):  \n",
    "    (Y, X) = node.state\n",
    "    (gY, gX) = maze_array.goal_position\n",
    "        \n",
    "    return int(math.sqrt((gY-Y)**2+(gX-X)**2))"
   ]
  },
  {
   "cell_type": "code",
   "execution_count": 289,
   "metadata": {},
   "outputs": [],
   "source": [
    "MAZE_WIDTH = 30\n",
    "MAZE_HEIGHT = 31\n",
    "global maze_array\n",
    "maze_array = Maze(MAZE_WIDTH, MAZE_HEIGHT)\n",
    "maze_array.maze_generator()"
   ]
  },
  {
   "cell_type": "code",
   "execution_count": 290,
   "metadata": {
    "scrolled": true
   },
   "outputs": [
    {
     "name": "stdout",
     "output_type": "stream",
     "text": [
      "(12, 21)\n",
      "(12, 8)\n"
     ]
    }
   ],
   "source": [
    "print(maze_array.pac_position)\n",
    "print(maze_array.goal_position)"
   ]
  },
  {
   "cell_type": "code",
   "execution_count": 291,
   "metadata": {},
   "outputs": [
    {
     "name": "stdout",
     "output_type": "stream",
     "text": [
      "[(12, 20), (12, 19), (12, 18), (12, 17), (12, 16), (12, 15), (12, 14), (12, 13), (12, 12), (12, 11), (12, 10), (12, 9), (12, 8)]\n",
      "26\n"
     ]
    },
    {
     "data": {
      "image/png": "[encoded data removed]",
      "text/plain": [
       "<Figure size 432x288 with 1 Axes>"
      ]
     },
     "metadata": {
      "needs_background": "light"
     },
     "output_type": "display_data"
    }
   ],
   "source": [
    "problem = PacmanMazeProblem(maze_array.pac_position, maze_array.goal_position)\n",
    "solution = breadth_first_graph_search(problem)\n",
    "\n",
    "print(solution.solution())\n",
    "print(solution.path_cost)\n",
    "\n",
    "maze_array.show_maze(solution.solution())"
   ]
  },
  {
   "cell_type": "code",
   "execution_count": 292,
   "metadata": {},
   "outputs": [
    {
     "name": "stdout",
     "output_type": "stream",
     "text": [
      "[(12, 20), (12, 19), (12, 18), (12, 17), (12, 16), (11, 16), (10, 16), (9, 16), (8, 16), (8, 15), (7, 15), (6, 15), (5, 15), (4, 15), (3, 15), (2, 15), (1, 15), (1, 14), (1, 13), (1, 12), (1, 11), (1, 10), (1, 9), (1, 8), (1, 7), (1, 6), (1, 5), (1, 4), (1, 3), (1, 2), (1, 1), (2, 1), (3, 1), (4, 1), (5, 1), (6, 1), (7, 1), (7, 2), (7, 3), (7, 4), (7, 5), (7, 6), (8, 6), (9, 6), (10, 6), (11, 6), (12, 6), (12, 7), (12, 8)]\n",
      "98\n"
     ]
    },
    {
     "data": {
      "image/png": "[encoded data removed]",
      "text/plain": [
       "<Figure size 432x288 with 1 Axes>"
      ]
     },
     "metadata": {
      "needs_background": "light"
     },
     "output_type": "display_data"
    }
   ],
   "source": [
    "global maze_array\n",
    "maze_array.maze = maze_array.original_maze.copy()\n",
    "solution = depth_limited_search(problem)\n",
    "\n",
    "print(solution.solution())\n",
    "print(solution.path_cost)\n",
    "\n",
    "maze_array.show_maze(solution.solution())"
   ]
  },
  {
   "cell_type": "code",
   "execution_count": 293,
   "metadata": {},
   "outputs": [
    {
     "name": "stdout",
     "output_type": "stream",
     "text": [
      "[(12, 20), (12, 19), (12, 18), (12, 17), (12, 16), (12, 15), (12, 14), (12, 13), (12, 12), (12, 11), (12, 10), (12, 9), (12, 8)]\n",
      "26\n"
     ]
    },
    {
     "data": {
      "image/png": "[encoded data removed]",
      "text/plain": [
       "<Figure size 432x288 with 1 Axes>"
      ]
     },
     "metadata": {
      "needs_background": "light"
     },
     "output_type": "display_data"
    }
   ],
   "source": [
    "\n",
    "############### A* with h() = linear distance #####################\n",
    "\n",
    "global maze_array\n",
    "maze_array.maze = maze_array.original_maze.copy()\n",
    "solution = astar_search(problem, linear)\n",
    "\n",
    "print(solution.solution())\n",
    "print(solution.path_cost)\n",
    "\n",
    "maze_array.show_maze(solution.solution())"
   ]
  },
  {
   "cell_type": "code",
   "execution_count": 294,
   "metadata": {},
   "outputs": [
    {
     "name": "stdout",
     "output_type": "stream",
     "text": [
      "[(12, 20), (12, 19), (12, 18), (12, 17), (12, 16), (12, 15), (12, 14), (12, 13), (12, 12), (12, 11), (12, 10), (12, 9), (12, 8)]\n",
      "26\n"
     ]
    },
    {
     "data": {
      "image/png": "[encoded data removed]",
      "text/plain": [
       "<Figure size 432x288 with 1 Axes>"
      ]
     },
     "metadata": {
      "needs_background": "light"
     },
     "output_type": "display_data"
    }
   ],
   "source": [
    "\n",
    "############### A* with h() = manhatan distance #####################\n",
    "\n",
    "global maze_array\n",
    "maze_array.maze = maze_array.original_maze.copy()\n",
    "solution = astar_search(problem, manhatan)\n",
    "\n",
    "print(solution.solution())\n",
    "print(solution.path_cost)\n",
    "\n",
    "maze_array.show_maze(solution.solution())"
   ]
  },
  {
   "cell_type": "code",
   "execution_count": null,
   "metadata": {},
   "outputs": [],
   "source": []
  }
 ],
 "metadata": {
  "kernelspec": {
   "display_name": "Python 3",
   "language": "python",
   "name": "python3"
  },
  "language_info": {
   "codemirror_mode": {
    "name": "ipython",
    "version": 3
   },
   "file_extension": ".py",
   "mimetype": "text/x-python",
   "name": "python",
   "nbconvert_exporter": "python",
   "pygments_lexer": "ipython3",
   "version": "3.6.8"
  }
 },
 "nbformat": 4,
 "nbformat_minor": 4
}
