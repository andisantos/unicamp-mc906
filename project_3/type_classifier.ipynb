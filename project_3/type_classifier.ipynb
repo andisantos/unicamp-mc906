{
 "cells": [
  {
   "cell_type": "code",
   "execution_count": null,
   "metadata": {},
   "outputs": [],
   "source": [
    "import tensorflow as tf\n",
    "import cv2\n",
    "import matplotlib.pyplot as plt\n",
    "import os\n",
    "import seaborn as sns\n",
    "import numpy as np\n",
    "i"
   ]
  },
  {
   "cell_type": "code",
   "execution_count": null,
   "metadata": {},
   "outputs": [],
   "source": [
    "path = './dataset/train_images/' # Path to directory which contains classes\n",
    "classes = os.listdir(path) # List of all classes\n",
    "print('Total number of categories: {0}'.format(len(classes)))"
   ]
  },
  {
   "cell_type": "code",
   "execution_count": null,
   "metadata": {},
   "outputs": [],
   "source": [
    "counts = {}\n",
    "for c in classes:\n",
    "    counts[c] = len(os.listdir(os.path.join(path, c)))\n",
    "    \n",
    "print('Total number of images in dataset: {0}'.format(sum(list(counts.values()))))\n",
    "\n",
    "# Number of images in each clsss plot\n",
    "fig = plt.figure(figsize = (25, 5))\n",
    "sns.barplot(x = list(counts.keys()), y = list(counts.values())).set_title('Number of images in each class')\n",
    "plt.xticks(rotation = 90)\n",
    "plt.margins(x=0)\n",
    "plt.show()"
   ]
  },
  {
   "cell_type": "code",
   "execution_count": null,
   "metadata": {},
   "outputs": [],
   "source": [
    "X = [] # List for images\n",
    "Y = [] # List for labels\n",
    "label_to_name = [0 for i in range(len(classes))]\n",
    "# Loop through all classes\n",
    "for label, c in enumerate(classes):\n",
    "    # Reading, resizing and adding image and label to lists\n",
    "    label_to_name[label] = c\n",
    "    dir_path = os.path.join(path, c)\n",
    "    for i in os.listdir(dir_path):\n",
    "        \n",
    "        image = cv2.imread(os.path.join(dir_path, i))\n",
    "\n",
    "        X.append(image)\n",
    "        Y.append(label)  \n",
    "\n",
    "print('DONE')"
   ]
  },
  {
   "cell_type": "code",
   "execution_count": null,
   "metadata": {},
   "outputs": [],
   "source": [
    "X = np.array(X)\n",
    "Y = np.array(Y)"
   ]
  },
  {
   "cell_type": "code",
   "execution_count": null,
   "metadata": {},
   "outputs": [],
   "source": [
    "X = X / 255.0"
   ]
  },
  {
   "cell_type": "code",
   "execution_count": null,
   "metadata": {},
   "outputs": [],
   "source": [
    "plt.imshow(X[1000])"
   ]
  },
  {
   "cell_type": "code",
   "execution_count": null,
   "metadata": {},
   "outputs": [],
   "source": [
    "label_to_name[Y[1000]]"
   ]
  },
  {
   "cell_type": "code",
   "execution_count": null,
   "metadata": {},
   "outputs": [],
   "source": [
    "model = tf.keras.applications.Xception(input_shape=(300,300,3), classes=14, weights=None)"
   ]
  },
  {
   "cell_type": "code",
   "execution_count": null,
   "metadata": {},
   "outputs": [],
   "source": [
    "model.compile(optimizer = 'adam', loss = 'sparse_categorical_crossentropy', metrics = ['accuracy'])"
   ]
  },
  {
   "cell_type": "code",
   "execution_count": null,
   "metadata": {},
   "outputs": [],
   "source": [
    "model.fit(X, Y, epochs=2, verbose=True)"
   ]
  },
  {
   "cell_type": "code",
   "execution_count": null,
   "metadata": {},
   "outputs": [],
   "source": []
  }
 ],
 "metadata": {
  "kernelspec": {
   "display_name": "Python 3",
   "language": "python",
   "name": "python3"
  },
  "language_info": {
   "codemirror_mode": {
    "name": "ipython",
    "version": 3
   },
   "file_extension": ".py",
   "mimetype": "text/x-python",
   "name": "python",
   "nbconvert_exporter": "python",
   "pygments_lexer": "ipython3",
   "version": "3.7.6"
  }
 },
 "nbformat": 4,
 "nbformat_minor": 4
}
