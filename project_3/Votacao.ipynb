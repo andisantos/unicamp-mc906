{
 "cells": [
  {
   "cell_type": "code",
   "execution_count": null,
   "metadata": {},
   "outputs": [],
   "source": [
    "import tensorflow as tf\n",
    "import cv2\n",
    "import matplotlib.pyplot as plt\n",
    "import os\n",
    "import seaborn as sns\n",
    "import numpy as np\n",
    "import tqdm\n",
    "import datetime\n",
    "from sklearn.metrics import confusion_matrix, classification_report\n",
    "\n",
    "from tensorflow.keras.preprocessing.image import ImageDataGenerator\n",
    "from tensorflow.keras.models import load_model\n",
    "\n",
    "%load_ext tensorboard"
   ]
  },
  {
   "cell_type": "code",
   "execution_count": null,
   "metadata": {},
   "outputs": [],
   "source": [
    "physical_devices = tf.config.list_physical_devices('GPU')\n",
    "tf.config.experimental.set_memory_growth(physical_devices[0], True)\n",
    "print(\"Num GPUs Available: \", len(tf.config.experimental.list_physical_devices('GPU')))"
   ]
  },
  {
   "cell_type": "code",
   "execution_count": null,
   "metadata": {},
   "outputs": [],
   "source": [
    "class_indices = ['Colorless', 'Darkness', 'Fighting', 'Fire', 'Grass', 'Lightning', 'Metal', 'Psychic', 'Water']"
   ]
  },
  {
   "cell_type": "code",
   "execution_count": null,
   "metadata": {},
   "outputs": [],
   "source": [
    "xception_model = tf.keras.applications.Xception(input_shape=(300,300,3), classes=9, weights=None)\n",
    "xception_model.compile(optimizer = 'adam', loss = 'sparse_categorical_crossentropy', metrics = ['accuracy'])\n",
    "xception_model.load_weights('./pesos_boms/Xception_2020-08-04-nonbalanced-dataset/epoch-38-val_loss-1.71.tf')"
   ]
  },
  {
   "cell_type": "code",
   "execution_count": null,
   "metadata": {},
   "outputs": [],
   "source": [
    "inception_model = tf.keras.applications.InceptionResNetV2(input_shape=(300,300,3), classes=9, weights=None)\n",
    "inception_model.compile(optimizer = 'adam', loss = 'sparse_categorical_crossentropy', metrics = ['accuracy'])\n",
    "inception_model.load_weights('./pesos_boms/Inception-nonbalanced-dataset/epoch-24-val_loss-1.76.tf')"
   ]
  },
  {
   "cell_type": "code",
   "execution_count": null,
   "metadata": {},
   "outputs": [],
   "source": [
    "test_images = []\n",
    "test_labels = []\n",
    "\n",
    "base_dir = './dataset/test_images'\n",
    "for label in os.listdir(base_dir):\n",
    "    label_dir = os.path.join(base_dir, label)\n",
    "    for img in os.listdir(label_dir):\n",
    "        img_path = os.path.join(label_dir, img)\n",
    "        \n",
    "        img = np.array(cv2.imread(img_path, cv2.IMREAD_COLOR))\n",
    "        img = cv2.cvtColor(img, cv2.COLOR_BGR2RGB)\n",
    "        img = img/256.0\n",
    "        \n",
    "        test_images.append(img)\n",
    "        test_labels.append(int(label))\n",
    "\n",
    "test_images = np.array(test_images)"
   ]
  },
  {
   "cell_type": "code",
   "execution_count": null,
   "metadata": {},
   "outputs": [],
   "source": [
    "xception_guess = []\n",
    "inception_guess = []\n",
    "combined_guess = []\n",
    "\n",
    "xception_res = xception_model.predict(test_images)\n",
    "inception_res = inception_model.predict(test_images)\n",
    "\n",
    "for i in range(len(test_images)):\n",
    "    xception_guess.append((np.argmax(xception_res[i]), np.max(xception_res[i])))\n",
    "    inception_guess.append((np.argmax(inception_res[i]), np.max(inception_res[i])))\n",
    "    \n",
    "    if 1.1*xception_guess[i][1] > inception_guess[i][1]:\n",
    "        combined_guess.append(xception_guess[i])\n",
    "    else:\n",
    "        combined_guess.append(inception_guess[i])"
   ]
  },
  {
   "cell_type": "code",
   "execution_count": null,
   "metadata": {},
   "outputs": [],
   "source": [
    "xception_right = 0\n",
    "inception_right = 0\n",
    "combined_right = 0\n",
    "\n",
    "for i in range(len(test_images)):\n",
    "    if xception_guess[i][0] == test_labels[i]:\n",
    "        xception_right += 1\n",
    "    if inception_guess[i][0] == test_labels[i]:\n",
    "        inception_right += 1\n",
    "    if combined_guess[i][0] == test_labels[i]:\n",
    "        combined_right += 1\n",
    "\n",
    "print(\"Xception: \", xception_right/len(test_images))\n",
    "print(\"Inception: \", inception_right/len(test_images))\n",
    "print(\"Combined: \", combined_right/len(test_images))"
   ]
  }
 ],
 "metadata": {
  "kernelspec": {
   "display_name": "Python 3",
   "language": "python",
   "name": "python3"
  },
  "language_info": {
   "codemirror_mode": {
    "name": "ipython",
    "version": 3
   },
   "file_extension": ".py",
   "mimetype": "text/x-python",
   "name": "python",
   "nbconvert_exporter": "python",
   "pygments_lexer": "ipython3",
   "version": "3.8.2"
  }
 },
 "nbformat": 4,
 "nbformat_minor": 4
}
