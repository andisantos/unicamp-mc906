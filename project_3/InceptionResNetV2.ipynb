{
 "cells": [
  {
   "cell_type": "code",
   "execution_count": null,
   "metadata": {},
   "outputs": [],
   "source": [
    "import tensorflow as tf\n",
    "import cv2\n",
    "import matplotlib.pyplot as plt\n",
    "import os\n",
    "import seaborn as sns\n",
    "import numpy as np\n",
    "import tqdm\n",
    "import datetime\n",
    "from sklearn.metrics import confusion_matrix, classification_report\n",
    "\n",
    "from tensorflow.keras.preprocessing.image import ImageDataGenerator\n",
    "from tensorflow.keras.models import load_model\n",
    "\n",
    "%load_ext tensorboard"
   ]
  },
  {
   "cell_type": "code",
   "execution_count": null,
   "metadata": {},
   "outputs": [],
   "source": [
    "path = './dataset/train_images/' # Path to directory which contains classes\n",
    "model = \"InceptionResNetV2\"\n",
    "folder_name = \"{0}_{1}\".format(model, datetime.datetime.now().strftime(\"%Y-%m-%d-%H:%M:%S\"))\n",
    "checkpoint_folder = './checkpoints/{0}/'.format(folder_name)\n",
    "tensorboard_folder = \"tensorboard/fit/{0}/\".format(model)\n",
    "\n",
    "try:\n",
    "    os.mkdir(tensorboard_folder, 0o755)\n",
    "except:\n",
    "    pass\n",
    "os.mkdir(checkpoint_folder, 0o755)\n",
    "\n",
    "log_dir = tensorboard_folder + datetime.datetime.now().strftime(\"%Y-%m-%d-%H:%M:%S\")\n",
    "tensorboard_callback = tf.keras.callbacks.TensorBoard(log_dir=log_dir, histogram_freq=1)\n",
    "\n",
    "checkpoint_filepath = checkpoint_folder + 'epoch-{epoch:02d}-val_loss-{val_loss:.2f}.tf'\n",
    "checkpoint_callback = tf.keras.callbacks.ModelCheckpoint(filepath=checkpoint_filepath, \n",
    "                                                         monitor='val_loss', \n",
    "                                                         save_weights_only=True,\n",
    "                                                         mode='min')\n",
    "\n",
    "early_stop_callback = tf.keras.callbacks.EarlyStopping(monitor=\"val_loss\", \n",
    "                                                       min_delta=1e-4,\n",
    "                                                       patience=15,\n",
    "                                                       verbose=1,\n",
    "                                                       mode=\"min\")\n",
    "\n",
    "classes = os.listdir(path) # List of all classes\n",
    "print('Total number of categories: {0}'.format(len(classes)))"
   ]
  },
  {
   "cell_type": "code",
   "execution_count": null,
   "metadata": {},
   "outputs": [],
   "source": [
    "counts = {}\n",
    "for c in classes:\n",
    "    counts[c] = len(os.listdir(os.path.join(path, c)))\n",
    "\n",
    "num_images = sum(list(counts.values()))\n",
    "print('Total number of images in dataset: {0}'.format(num_images))\n",
    "\n",
    "# Number of images in each clsss plot\n",
    "fig = plt.figure(figsize = (25, 5))\n",
    "sns.barplot(x = list(counts.keys()), y = list(counts.values())).set_title('Number of images in each class')\n",
    "plt.xticks(rotation = 90)\n",
    "plt.margins(x=0)\n",
    "plt.show()"
   ]
  },
  {
   "cell_type": "code",
   "execution_count": null,
   "metadata": {},
   "outputs": [],
   "source": [
    "train_datagen = ImageDataGenerator(\n",
    "    rescale=1./255,\n",
    "    validation_split=0.2,\n",
    "    dtype='float32',\n",
    "    horizontal_flip = True,\n",
    "    #vertical_flip = True,\n",
    "    rotation_range = 30,\n",
    "    zoom_range = 0.2,\n",
    "    width_shift_range = 0.15,\n",
    "    height_shift_range = 0.15,\n",
    "    shear_range = 0.2\n",
    ")\n",
    "\n",
    "train_generator = train_datagen.flow_from_directory(\n",
    "    'dataset/train_images',\n",
    "    batch_size=8,\n",
    "    target_size=(300,300),\n",
    "    class_mode='sparse',\n",
    "    subset='training')\n",
    "\n",
    "validation_generator = train_datagen.flow_from_directory(\n",
    "    'dataset/train_images',\n",
    "    batch_size=8,\n",
    "    target_size=(300,300),\n",
    "    class_mode='sparse',\n",
    "    subset=\"validation\"\n",
    ")"
   ]
  },
  {
   "cell_type": "code",
   "execution_count": null,
   "metadata": {},
   "outputs": [],
   "source": [
    "train_generator.class_indices"
   ]
  },
  {
   "cell_type": "code",
   "execution_count": null,
   "metadata": {},
   "outputs": [],
   "source": [
    "balance_weights = {}\n",
    "\n",
    "max_count = max(counts.values())\n",
    "for k, v in counts.items():\n",
    "    balance_weights[train_generator.class_indices[k]] = max_count/v"
   ]
  },
  {
   "cell_type": "code",
   "execution_count": null,
   "metadata": {},
   "outputs": [],
   "source": [
    "print(\"Num GPUs Available: \", len(tf.config.experimental.list_physical_devices('GPU')))"
   ]
  },
  {
   "cell_type": "code",
   "execution_count": null,
   "metadata": {},
   "outputs": [],
   "source": [
    "physical_devices = tf.config.list_physical_devices('GPU')\n",
    "tf.config.experimental.set_memory_growth(physical_devices[0], True)"
   ]
  },
  {
   "cell_type": "code",
   "execution_count": null,
   "metadata": {},
   "outputs": [],
   "source": [
    "model = tf.keras.applications.InceptionResNetV2(input_shape=(300,300,3), classes=9, weights=None)"
   ]
  },
  {
   "cell_type": "code",
   "execution_count": null,
   "metadata": {},
   "outputs": [],
   "source": [
    "model.compile(optimizer = 'adam', loss = 'sparse_categorical_crossentropy', metrics = ['accuracy'])"
   ]
  },
  {
   "cell_type": "code",
   "execution_count": null,
   "metadata": {},
   "outputs": [],
   "source": [
    "history = model.fit(train_generator, epochs=250, verbose=True, \n",
    "                    callbacks=[tensorboard_callback, checkpoint_callback, early_stop_callback],\n",
    "                    validation_data=validation_generator, class_weight=balance_weights)"
   ]
  },
  {
   "cell_type": "code",
   "execution_count": null,
   "metadata": {},
   "outputs": [],
   "source": [
    "best_epoch = np.argmin(history.history['val_loss']) + 1\n",
    "best_loss = np.min(history.history['val_loss'])\n",
    "model.load_weights(checkpoint_folder+'epoch-{0:02d}-val_loss-{1:.2f}.tf'.format(best_epoch, best_loss))"
   ]
  },
  {
   "cell_type": "code",
   "execution_count": null,
   "metadata": {},
   "outputs": [],
   "source": [
    "scores = model.evaluate(x=validation_generator, verbose=1)"
   ]
  },
  {
   "cell_type": "code",
   "execution_count": null,
   "metadata": {},
   "outputs": [],
   "source": [
    "img = np.array(cv2.imread(\"./dataset/test_images/6.jpg\", cv2.IMREAD_COLOR))\n",
    "img = cv2.cvtColor(img, cv2.COLOR_BGR2RGB)\n",
    "img = img/256.0\n",
    "\n",
    "plt.imshow(img)\n",
    "\n",
    "res = model.predict(np.array([img]))[0]\n",
    "print(list(train_generator.class_indices.keys())[list(train_generator.class_indices.values()).index(np.argmax(res))], str(np.max(res)*100)+\"%\")"
   ]
  },
  {
   "cell_type": "code",
   "execution_count": null,
   "metadata": {},
   "outputs": [],
   "source": [
    "Y_pred = model.predict(validation_generator, 2084 // 8+1)\n",
    "y_pred = np.argmax(Y_pred, axis=1)\n",
    "print('Classification Report')\n",
    "target_names = ['Colorless', 'Darkness','Fighting','Fire','Grass','Lightning','Metal','Psychic','Water']\n",
    "print(classification_report(validation_generator.classes, y_pred, target_names=target_names))"
   ]
  },
  {
   "cell_type": "code",
   "execution_count": null,
   "metadata": {},
   "outputs": [],
   "source": [
    "print('Confusion Matrix')\n",
    "c_matrix = confusion_matrix(validation_generator.classes, y_pred)\n",
    "\n",
    "fig, ax = plt.subplots()\n",
    "ax.matshow(c_matrix,  cmap=plt.cm.Blues)\n",
    "for i in range(9):\n",
    "    for j in range(9):\n",
    "        c = c_matrix[j,i]\n",
    "        ax.text(i, j, str(c), va='center', ha='center', fontdict={'color': 'magenta'})"
   ]
  },
  {
   "cell_type": "code",
   "execution_count": null,
   "metadata": {},
   "outputs": [],
   "source": []
  }
 ],
 "metadata": {
  "kernelspec": {
   "display_name": "Python 3",
   "language": "python",
   "name": "python3"
  },
  "language_info": {
   "codemirror_mode": {
    "name": "ipython",
    "version": 3
   },
   "file_extension": ".py",
   "mimetype": "text/x-python",
   "name": "python",
   "nbconvert_exporter": "python",
   "pygments_lexer": "ipython3",
   "version": "3.8.2"
  }
 },
 "nbformat": 4,
 "nbformat_minor": 4
}
