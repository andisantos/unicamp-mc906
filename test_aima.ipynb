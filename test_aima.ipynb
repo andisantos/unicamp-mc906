{
 "cells": [
  {
   "cell_type": "code",
   "execution_count": 1,
   "metadata": {},
   "outputs": [
    {
     "name": "stdout",
     "output_type": "stream",
     "text": [
      "['/home/andreza/Documents/1S2020/mc906/aima-python', '/home/andreza/Documents/1S2020/mc906/ai-pacman', '/usr/lib/python38.zip', '/usr/lib/python3.8', '/usr/lib/python3.8/lib-dynload', '', '/home/andreza/.local/lib/python3.8/site-packages', '/usr/lib/python3.8/site-packages', '/home/andreza/.local/lib/python3.8/site-packages/IPython/extensions', '/home/andreza/.ipython']\n"
     ]
    }
   ],
   "source": [
    "# insert aima-python to python list of libraries\n",
    "# needed to import aima-python\n",
    "import sys\n",
    "PATH_TO_AIMA = \"/home/andreza/Documents/1S2020/mc906/aima-python\"\n",
    "if PATH_TO_AIMA not in sys.path:\n",
    "    sys.path.insert(0,PATH_TO_AIMA)\n",
    "print(sys.path)"
   ]
  },
  {
   "cell_type": "code",
   "execution_count": 2,
   "metadata": {},
   "outputs": [],
   "source": [
    "# import testing\n",
    "import nlp\n",
    "from nlp import Page, HITS\n",
    "from nlp import Lexicon, Rules, Grammar, ProbLexicon, ProbRules, ProbGrammar\n",
    "from nlp import CYK_parse, Chart\n",
    "\n",
    "from search import *\n",
    "from notebook import psource, heatmap, gaussian_kernel, show_map, final_path_colors, display_visual, plot_NQueens"
   ]
  }
 ],
 "metadata": {
  "kernelspec": {
   "display_name": "Python 3",
   "language": "python",
   "name": "python3"
  },
  "language_info": {
   "codemirror_mode": {
    "name": "ipython",
    "version": 3
   },
   "file_extension": ".py",
   "mimetype": "text/x-python",
   "name": "python",
   "nbconvert_exporter": "python",
   "pygments_lexer": "ipython3",
   "version": "3.8.2"
  }
 },
 "nbformat": 4,
 "nbformat_minor": 4
}
